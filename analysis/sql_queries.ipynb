{
 "cells": [
  {
   "cell_type": "code",
   "execution_count": 1,
   "metadata": {
    "collapsed": false
   },
   "outputs": [],
   "source": [
    "import sqlite3\n",
    "import pandas as pd\n",
    "\n",
    "from IPython.display import display"
   ]
  },
  {
   "cell_type": "code",
   "execution_count": 2,
   "metadata": {
    "collapsed": false
   },
   "outputs": [],
   "source": [
    "def create_placeholder(n):\n",
    "    p = \",\".join([\"?\"] * n)\n",
    "    return \"(\" + p + \")\""
   ]
  },
  {
   "cell_type": "code",
   "execution_count": 3,
   "metadata": {
    "collapsed": false
   },
   "outputs": [
    {
     "name": "stdout",
     "output_type": "stream",
     "text": [
      "CPU times: user 10.8 s, sys: 675 ms, total: 11.5 s\n",
      "Wall time: 11.5 s\n"
     ]
    }
   ],
   "source": [
    "%%time\n",
    "\n",
    "conn = sqlite3.connect(\"../aminer.db\")\n",
    "df1 = pd.read_sql_query(\n",
    "    \"\"\"\n",
    "    SELECT ACM.paper_index, ACM.paper_title, ACM.year, ACM.abstract, count(AA.author_name) as NUM_AUTHORS \n",
    "    FROM ACM\n",
    "    LEFT JOIN ACM_AUTHOR AS AA\n",
    "    ON ACM.paper_index = AA.paper_index\n",
    "    GROUP BY ACM.paper_index\n",
    "    HAVING NUM_AUTHORS > 10\n",
    "    ORDER BY count(AA.author_name) DESC\n",
    "    \"\"\", \n",
    "    conn\n",
    ")"
   ]
  },
  {
   "cell_type": "code",
   "execution_count": 4,
   "metadata": {
    "collapsed": false
   },
   "outputs": [
    {
     "data": {
      "text/html": [
       "<div>\n",
       "<table border=\"1\" class=\"dataframe\">\n",
       "  <thead>\n",
       "    <tr style=\"text-align: right;\">\n",
       "      <th></th>\n",
       "      <th>paper_index</th>\n",
       "      <th>paper_title</th>\n",
       "      <th>year</th>\n",
       "      <th>abstract</th>\n",
       "      <th>NUM_AUTHORS</th>\n",
       "    </tr>\n",
       "  </thead>\n",
       "  <tbody>\n",
       "    <tr>\n",
       "      <th>0</th>\n",
       "      <td>569904</td>\n",
       "      <td>An overview of the BlueGene/L Supercomputer</td>\n",
       "      <td>2002</td>\n",
       "      <td>This paper gives an overview of the BlueGene/L...</td>\n",
       "      <td>115</td>\n",
       "    </tr>\n",
       "    <tr>\n",
       "      <th>1</th>\n",
       "      <td>1479158</td>\n",
       "      <td>Deployment of the ATLAS high level trigger</td>\n",
       "      <td>2005</td>\n",
       "      <td>The ATLAS combined test beam in the second hal...</td>\n",
       "      <td>110</td>\n",
       "    </tr>\n",
       "    <tr>\n",
       "      <th>2</th>\n",
       "      <td>785222</td>\n",
       "      <td>The Grid2003 Production Grid: Principles and P...</td>\n",
       "      <td>2004</td>\n",
       "      <td>The Grid2003 Project has deployed a multi-virt...</td>\n",
       "      <td>102</td>\n",
       "    </tr>\n",
       "    <tr>\n",
       "      <th>3</th>\n",
       "      <td>1202293</td>\n",
       "      <td>Interoperation of world-wide production e-Scie...</td>\n",
       "      <td>2009</td>\n",
       "      <td>Many production Grid and e-Science infrastruct...</td>\n",
       "      <td>88</td>\n",
       "    </tr>\n",
       "    <tr>\n",
       "      <th>4</th>\n",
       "      <td>1479229</td>\n",
       "      <td>Implementation and performance of the seeded r...</td>\n",
       "      <td>2005</td>\n",
       "      <td>ATLAS is one of the four LHC experiments that ...</td>\n",
       "      <td>83</td>\n",
       "    </tr>\n",
       "  </tbody>\n",
       "</table>\n",
       "</div>"
      ],
      "text/plain": [
       "   paper_index                                        paper_title  year  \\\n",
       "0       569904        An overview of the BlueGene/L Supercomputer  2002   \n",
       "1      1479158         Deployment of the ATLAS high level trigger  2005   \n",
       "2       785222  The Grid2003 Production Grid: Principles and P...  2004   \n",
       "3      1202293  Interoperation of world-wide production e-Scie...  2009   \n",
       "4      1479229  Implementation and performance of the seeded r...  2005   \n",
       "\n",
       "                                            abstract  NUM_AUTHORS  \n",
       "0  This paper gives an overview of the BlueGene/L...          115  \n",
       "1  The ATLAS combined test beam in the second hal...          110  \n",
       "2  The Grid2003 Project has deployed a multi-virt...          102  \n",
       "3  Many production Grid and e-Science infrastruct...           88  \n",
       "4  ATLAS is one of the four LHC experiments that ...           83  "
      ]
     },
     "metadata": {},
     "output_type": "display_data"
    }
   ],
   "source": [
    "display(df1.head())"
   ]
  },
  {
   "cell_type": "code",
   "execution_count": 5,
   "metadata": {
    "collapsed": false
   },
   "outputs": [
    {
     "name": "stdout",
     "output_type": "stream",
     "text": [
      "CPU times: user 25 s, sys: 10.4 s, total: 35.5 s\n",
      "Wall time: 35.5 s\n"
     ]
    }
   ],
   "source": [
    "%%time\n",
    "\n",
    "conn = sqlite3.connect(\"../aminer.db\")\n",
    "df2 = pd.read_sql_query(\n",
    "    \"\"\"\n",
    "    SELECT ACM.paper_index, ACM.paper_title, ACM.year, COUNT(AC.paper_index) as CITATIONS \n",
    "    FROM ACM_CITATION AS AC\n",
    "    LEFT JOIN ACM\n",
    "    ON AC.reference_id = ACM.paper_index\n",
    "    GROUP BY AC.reference_id\n",
    "    ORDER BY CITATIONS DESC\n",
    "    \"\"\", \n",
    "    conn\n",
    ")\n"
   ]
  },
  {
   "cell_type": "code",
   "execution_count": 6,
   "metadata": {
    "collapsed": false
   },
   "outputs": [
    {
     "data": {
      "text/html": [
       "<div>\n",
       "<table border=\"1\" class=\"dataframe\">\n",
       "  <thead>\n",
       "    <tr style=\"text-align: right;\">\n",
       "      <th></th>\n",
       "      <th>paper_index</th>\n",
       "      <th>paper_title</th>\n",
       "      <th>year</th>\n",
       "      <th>CITATIONS</th>\n",
       "    </tr>\n",
       "  </thead>\n",
       "  <tbody>\n",
       "    <tr>\n",
       "      <th>0</th>\n",
       "      <td>2135000</td>\n",
       "      <td>INFORMS Journal on Computing</td>\n",
       "      <td>2014</td>\n",
       "      <td>938039</td>\n",
       "    </tr>\n",
       "    <tr>\n",
       "      <th>1</th>\n",
       "      <td>2381731</td>\n",
       "      <td>Effects of Terms Recognition Mistakes on Reque...</td>\n",
       "      <td>2012</td>\n",
       "      <td>82080</td>\n",
       "    </tr>\n",
       "    <tr>\n",
       "      <th>2</th>\n",
       "      <td>408395</td>\n",
       "      <td>Computers and Intractability: A Guide to the T...</td>\n",
       "      <td>1979</td>\n",
       "      <td>8620</td>\n",
       "    </tr>\n",
       "    <tr>\n",
       "      <th>3</th>\n",
       "      <td>369235</td>\n",
       "      <td>Genetic Algorithms in Search, Optimization and...</td>\n",
       "      <td>1989</td>\n",
       "      <td>6526</td>\n",
       "    </tr>\n",
       "    <tr>\n",
       "      <th>4</th>\n",
       "      <td>190580</td>\n",
       "      <td>The nature of statistical learning theory</td>\n",
       "      <td>1995</td>\n",
       "      <td>5297</td>\n",
       "    </tr>\n",
       "  </tbody>\n",
       "</table>\n",
       "</div>"
      ],
      "text/plain": [
       "   paper_index                                        paper_title  year  \\\n",
       "0      2135000                       INFORMS Journal on Computing  2014   \n",
       "1      2381731  Effects of Terms Recognition Mistakes on Reque...  2012   \n",
       "2       408395  Computers and Intractability: A Guide to the T...  1979   \n",
       "3       369235  Genetic Algorithms in Search, Optimization and...  1989   \n",
       "4       190580          The nature of statistical learning theory  1995   \n",
       "\n",
       "   CITATIONS  \n",
       "0     938039  \n",
       "1      82080  \n",
       "2       8620  \n",
       "3       6526  \n",
       "4       5297  "
      ]
     },
     "metadata": {},
     "output_type": "display_data"
    }
   ],
   "source": [
    "display(df2.head())"
   ]
  },
  {
   "cell_type": "code",
   "execution_count": null,
   "metadata": {
    "collapsed": true
   },
   "outputs": [],
   "source": []
  },
  {
   "cell_type": "code",
   "execution_count": 27,
   "metadata": {
    "collapsed": false
   },
   "outputs": [],
   "source": [
    "paper_titles = [\n",
    "    \"Header and Unit Inference for Spreadsheets Through Spatial Analyses\", \n",
    "    \"Schema extraction for tabular data on the web\"\n",
    "]"
   ]
  },
  {
   "cell_type": "code",
   "execution_count": 34,
   "metadata": {
    "collapsed": false
   },
   "outputs": [
    {
     "name": "stdout",
     "output_type": "stream",
     "text": [
      "[786387, 2030591]\n"
     ]
    }
   ],
   "source": [
    "indices = pd.read_sql_query(\n",
    "    \"\"\"\n",
    "    SELECT paper_index FROM ACM WHERE paper_title in {}\n",
    "    \"\"\".format(create_placeholder(len(papers))), \n",
    "    params = paper_titles, \n",
    "    con = conn\n",
    ")[\"paper_index\"].values.tolist()\n",
    "\n",
    "print(indices)"
   ]
  },
  {
   "cell_type": "code",
   "execution_count": 35,
   "metadata": {
    "collapsed": true
   },
   "outputs": [],
   "source": [
    "links = []"
   ]
  },
  {
   "cell_type": "code",
   "execution_count": 38,
   "metadata": {
    "collapsed": false
   },
   "outputs": [
    {
     "name": "stdout",
     "output_type": "stream",
     "text": [
      "53\n",
      "CPU times: user 36.7 s, sys: 2.26 s, total: 38.9 s\n",
      "Wall time: 39.2 s\n"
     ]
    }
   ],
   "source": [
    "%%time\n",
    "\n",
    "for idx in indices:\n",
    "    cites = pd.read_sql_query(\n",
    "        \"\"\"\n",
    "        SELECT ACM.paper_index FROM ACM \n",
    "        LEFT JOIN ACM_CITATION AS AC\n",
    "        ON ACM.paper_index = AC.paper_index\n",
    "        WHERE AC.reference_id = (?)\n",
    "        \"\"\", \n",
    "        params = (idx, ), \n",
    "        con = conn\n",
    "    )[\"paper_index\"].values.tolist()\n",
    "\n",
    "    for cite in cites:\n",
    "        links.append([index, cite])\n",
    "        \n",
    "indices = cites\n",
    "print(len(links))"
   ]
  },
  {
   "cell_type": "code",
   "execution_count": null,
   "metadata": {
    "collapsed": true
   },
   "outputs": [],
   "source": []
  }
 ],
 "metadata": {
  "kernelspec": {
   "display_name": "Python 3",
   "language": "python",
   "name": "python3"
  },
  "language_info": {
   "codemirror_mode": {
    "name": "ipython",
    "version": 3
   },
   "file_extension": ".py",
   "mimetype": "text/x-python",
   "name": "python",
   "nbconvert_exporter": "python",
   "pygments_lexer": "ipython3",
   "version": "3.6.0"
  }
 },
 "nbformat": 4,
 "nbformat_minor": 2
}
